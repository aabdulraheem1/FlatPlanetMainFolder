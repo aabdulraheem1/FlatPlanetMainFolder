{
 "cells": [
  {
   "cell_type": "code",
   "execution_count": 1,
   "metadata": {},
   "outputs": [
    {
     "name": "stdout",
     "output_type": "stream",
     "text": [
      "       WarehouseCode       Product ProductionMonth  ProductionQty\n",
      "159307           H53  1980-207-02E      2022-09-25            1.0\n",
      "159308           H53  1980-207-02E      2022-10-03            1.0\n",
      "159309           H53  1980-207-02E      2022-10-04            1.0\n",
      "159310           H53  1980-207-02E      2022-12-01            1.0\n",
      "159311           H53  1980-207-02E      2022-12-02            1.0\n",
      "...              ...           ...             ...            ...\n",
      "159405           H53  1980-207-02E      2023-11-26            1.0\n",
      "159406           H53  1980-207-02E      2023-11-27            1.0\n",
      "159407           H53  1980-207-02E      2024-01-08            1.0\n",
      "159408           H53  1980-207-02E      2024-01-14            1.0\n",
      "159409           H53  1980-207-02E      2024-01-25            1.0\n",
      "\n",
      "[103 rows x 4 columns]\n"
     ]
    }
   ],
   "source": [
    "import pandas as pd\n",
    "from sqlalchemy import create_engine\n",
    "\n",
    "Server = 'bkgcc-sql'\n",
    "Database = 'Bradken_Data_Warehouse'\n",
    "Driver = 'ODBC Driver 17 for SQL Server'\n",
    "Database_Con = f'mssql+pyodbc://@{Server}/{Database}?driver={Driver}'\n",
    "engine = create_engine(Database_Con)\n",
    "\n",
    "sql_wh = \"\"\"\n",
    "SELECT DISTINCT\n",
    "    Warehouse.WarehouseCode AS WarehouseCode,\n",
    "    Product.ProductKey AS Product,\n",
    "    TRY_CONVERT(DATE, Dates.DateValue) AS ProductionMonth,\n",
    "    HeatProducts.CastQty AS ProductionQty\n",
    "FROM PowerBI.Products AS Product\n",
    "LEFT JOIN PowerBI.HeatProducts AS HeatProducts\n",
    "    ON Product.skProductId = HeatProducts.skProductId\n",
    "LEFT JOIN PowerBI.Warehouse AS Warehouse\n",
    "    ON HeatProducts.SkWarehouseId = Warehouse.skWarehouseId\n",
    "LEFT JOIN PowerBI.Dates AS Dates\n",
    "    ON CAST(HeatProducts.TapTime AS DATE) = Dates.DateValue\n",
    "WHERE Warehouse.WarehouseCode IN ('H53', 'I92', '12A', 'M61', '235', '261')\n",
    "\"\"\"\n",
    "\n",
    "with engine.connect() as connection:\n",
    "    df = pd.read_sql(sql_wh, connection)\n",
    "    # Show only records for Product 1980-207-02E\n",
    "    print(df[df['Product'] == '1980-207-02E'])"
   ]
  }
 ],
 "metadata": {
  "kernelspec": {
   "display_name": "Python 3",
   "language": "python",
   "name": "python3"
  },
  "language_info": {
   "codemirror_mode": {
    "name": "ipython",
    "version": 3
   },
   "file_extension": ".py",
   "mimetype": "text/x-python",
   "name": "python",
   "nbconvert_exporter": "python",
   "pygments_lexer": "ipython3",
   "version": "3.13.4"
  }
 },
 "nbformat": 4,
 "nbformat_minor": 2
}
